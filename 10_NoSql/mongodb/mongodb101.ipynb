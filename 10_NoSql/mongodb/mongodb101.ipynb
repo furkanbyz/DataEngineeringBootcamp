{
 "cells": [
  {
   "cell_type": "code",
   "execution_count": 1,
   "metadata": {},
   "outputs": [
    {
     "name": "stdout",
     "output_type": "stream",
     "text": [
      "Requirement already satisfied: pymongo in c:\\users\\yusuf\\appdata\\local\\packages\\pythonsoftwarefoundation.python.3.10_qbz5n2kfra8p0\\localcache\\local-packages\\python310\\site-packages (4.3.3)\n",
      "Requirement already satisfied: dnspython<3.0.0,>=1.16.0 in c:\\users\\yusuf\\appdata\\local\\packages\\pythonsoftwarefoundation.python.3.10_qbz5n2kfra8p0\\localcache\\local-packages\\python310\\site-packages (from pymongo) (2.3.0)\n",
      "Note: you may need to restart the kernel to use updated packages.\n"
     ]
    }
   ],
   "source": [
    "pip install pymongo"
   ]
  },
  {
   "cell_type": "code",
   "execution_count": 2,
   "metadata": {},
   "outputs": [],
   "source": [
    "import pymongo"
   ]
  },
  {
   "cell_type": "code",
   "execution_count": 3,
   "metadata": {},
   "outputs": [],
   "source": [
    "client = pymongo.MongoClient(\"mongodb://localhost:27017\")"
   ]
  },
  {
   "cell_type": "code",
   "execution_count": 4,
   "metadata": {},
   "outputs": [
    {
     "name": "stdout",
     "output_type": "stream",
     "text": [
      "['admin', 'blog', 'config', 'desubat', 'local', 'node-app']\n"
     ]
    }
   ],
   "source": [
    "print(client.list_database_names())"
   ]
  },
  {
   "cell_type": "code",
   "execution_count": 5,
   "metadata": {},
   "outputs": [],
   "source": [
    "mydb = client[\"desubat\"]"
   ]
  },
  {
   "cell_type": "code",
   "execution_count": 10,
   "metadata": {},
   "outputs": [
    {
     "name": "stdout",
     "output_type": "stream",
     "text": [
      "['akademi', 'ogrenciler']\n"
     ]
    }
   ],
   "source": [
    "print(mydb.list_collection_names())"
   ]
  },
  {
   "cell_type": "code",
   "execution_count": 11,
   "metadata": {},
   "outputs": [],
   "source": [
    "dbCollection = mydb[\"akademi\"]"
   ]
  },
  {
   "cell_type": "code",
   "execution_count": 13,
   "metadata": {},
   "outputs": [],
   "source": [
    "veri = {\n",
    "    \"ad\":\"Ahmet\",\n",
    "    \"Soyad\":\"Gunay\",\n",
    "    \"yas\":23\n",
    "}\n",
    "eklendi = dbCollection.insert_one(veri)"
   ]
  },
  {
   "cell_type": "code",
   "execution_count": 30,
   "metadata": {},
   "outputs": [
    {
     "data": {
      "text/plain": [
       "<pymongo.results.InsertManyResult at 0x227f67704c0>"
      ]
     },
     "execution_count": 30,
     "metadata": {},
     "output_type": "execute_result"
    }
   ],
   "source": [
    "cokluVeri = [\n",
    "    {\n",
    "    \"ad\":\"Yusuf\",\n",
    "    \"Soyad\":\"Gzb\",\n",
    "    \"yas\":23\n",
    "    },\n",
    "    {\n",
    "    \"ad\":\"Hayrullah\",\n",
    "    \"Soyad\":\"Karaman\",\n",
    "    \"yas\":23\n",
    "    },\n",
    "    {\n",
    "    \"ad\":\"Abdullah\",\n",
    "    \"Soyad\":\"Erdem\",\n",
    "    \"yas\":33\n",
    "    }\n",
    "]\n",
    "dbCollection.insert_many(cokluVeri)\n"
   ]
  },
  {
   "cell_type": "code",
   "execution_count": 15,
   "metadata": {},
   "outputs": [
    {
     "data": {
      "text/plain": [
       "{'_id': ObjectId('64934232d8e39c3311441c6f'),\n",
       " 'ad': 'Ahmet',\n",
       " 'Soyad': 'Gunay',\n",
       " 'yas': 23}"
      ]
     },
     "execution_count": 15,
     "metadata": {},
     "output_type": "execute_result"
    }
   ],
   "source": [
    "dbCollection.find_one()"
   ]
  },
  {
   "cell_type": "code",
   "execution_count": 17,
   "metadata": {},
   "outputs": [
    {
     "name": "stdout",
     "output_type": "stream",
     "text": [
      "{'_id': ObjectId('64934232d8e39c3311441c6f'), 'ad': 'Ahmet', 'Soyad': 'Gunay', 'yas': 23}\n",
      "{'_id': ObjectId('6493423dd8e39c3311441c70'), 'ad': 'Ahmet', 'Soyad': 'Gunay', 'yas': 23}\n",
      "{'_id': ObjectId('649342c8d8e39c3311441c71'), 'ad': 'Yusuf', 'Soyad': 'Gzb', 'yas': 23}\n",
      "{'_id': ObjectId('649342c8d8e39c3311441c72'), 'ad': 'Hayrullah', 'Soyad': 'Karaman', 'yas': 23}\n",
      "{'_id': ObjectId('649342c8d8e39c3311441c73'), 'ad': 'Abdullah', 'Soyad': 'Erdem', 'yas': 23}\n"
     ]
    }
   ],
   "source": [
    "veriler = dbCollection.find()\n",
    "for i in veriler:\n",
    "    print(i)"
   ]
  },
  {
   "cell_type": "code",
   "execution_count": 19,
   "metadata": {},
   "outputs": [
    {
     "name": "stdout",
     "output_type": "stream",
     "text": [
      "{'ad': 'Ahmet', 'yas': 23}\n",
      "{'ad': 'Ahmet', 'yas': 23}\n",
      "{'ad': 'Yusuf', 'yas': 23}\n",
      "{'ad': 'Hayrullah', 'yas': 23}\n",
      "{'ad': 'Abdullah', 'yas': 23}\n"
     ]
    }
   ],
   "source": [
    "veriler = dbCollection.find({},{\"_id\":0,\"ad\":1,\"soyad\":1,\"yas\":1})\n",
    "for i in veriler:\n",
    "    print(i)"
   ]
  },
  {
   "cell_type": "code",
   "execution_count": 20,
   "metadata": {},
   "outputs": [
    {
     "name": "stdout",
     "output_type": "stream",
     "text": [
      "{'ad': 'Ahmet', 'Soyad': 'Gunay', 'yas': 23}\n",
      "{'ad': 'Ahmet', 'Soyad': 'Gunay', 'yas': 23}\n",
      "{'ad': 'Yusuf', 'Soyad': 'Gzb', 'yas': 23}\n",
      "{'ad': 'Hayrullah', 'Soyad': 'Karaman', 'yas': 23}\n",
      "{'ad': 'Abdullah', 'Soyad': 'Erdem', 'yas': 23}\n"
     ]
    }
   ],
   "source": [
    "veriler = dbCollection.find({},{\"_id\":0})\n",
    "for i in veriler:\n",
    "    print(i)\n",
    "    "
   ]
  },
  {
   "cell_type": "code",
   "execution_count": 27,
   "metadata": {},
   "outputs": [
    {
     "name": "stdout",
     "output_type": "stream",
     "text": [
      "{'_id': ObjectId('64934232d8e39c3311441c6f'), 'ad': 'Ahmet', 'Soyad': 'Gunay', 'yas': 23}\n",
      "{'_id': ObjectId('6493423dd8e39c3311441c70'), 'ad': 'Ahmet', 'Soyad': 'Gunay', 'yas': 23}\n"
     ]
    }
   ],
   "source": [
    "filtre = {\"ad\":\"Ahmet\"}\n",
    "veriler=dbCollection.find(\n",
    "    {\n",
    "        \"ad\":\"Ahmet\"\n",
    "    }\n",
    "    \n",
    "    )\n",
    "for i in veriler:\n",
    "    print(i)\n",
    "    "
   ]
  },
  {
   "cell_type": "code",
   "execution_count": 29,
   "metadata": {},
   "outputs": [
    {
     "name": "stdout",
     "output_type": "stream",
     "text": [
      "{'ad': 'Yusuf', 'Soyad': 'Gzb', 'yas': 23}\n",
      "{'ad': 'Hayrullah', 'Soyad': 'Karaman', 'yas': 23}\n"
     ]
    }
   ],
   "source": [
    "veriler = dbCollection.find(\n",
    "    {\n",
    "        \"ad\":{\n",
    "            \"$in\":[\"Yusuf\",\"Hayrullah\"]\n",
    "        }\n",
    "    },\n",
    "    {\"_id\":0}\n",
    ")\n",
    "\n",
    "\n",
    "for i in veriler:\n",
    "    print(i)\n"
   ]
  },
  {
   "cell_type": "code",
   "execution_count": 32,
   "metadata": {},
   "outputs": [
    {
     "name": "stdout",
     "output_type": "stream",
     "text": [
      "{'ad': 'Abdullah', 'Soyad': 'Erdem', 'yas': 33}\n"
     ]
    }
   ],
   "source": [
    "veriler = dbCollection.find(\n",
    "    {\n",
    "        \"yas\":{\n",
    "            \"$gt\":24\n",
    "        }\n",
    "    },\n",
    "    {\"_id\":0}\n",
    ")\n",
    "\n",
    "for i in veriler:\n",
    "    print(i)\n"
   ]
  },
  {
   "cell_type": "code",
   "execution_count": 33,
   "metadata": {},
   "outputs": [
    {
     "name": "stdout",
     "output_type": "stream",
     "text": [
      "{'ad': 'Huseyin', 'yas': 23}\n",
      "{'ad': 'Ahmet', 'yas': 23}\n",
      "{'ad': 'Yusuf', 'yas': 23}\n",
      "{'ad': 'Hayrullah', 'yas': 23}\n",
      "{'ad': 'Abdullah', 'yas': 23}\n",
      "{'ad': 'Yusuf', 'yas': 23}\n",
      "{'ad': 'Hayrullah', 'yas': 23}\n",
      "{'ad': 'Abdullah', 'yas': 33}\n"
     ]
    }
   ],
   "source": [
    "dbCollection.update_one(\n",
    "    {\"ad\":\"Ahmet\"},\n",
    "    {\n",
    "        \"$set\":{\n",
    "            \"ad\":\"Huseyin\"\n",
    "        }\n",
    "    }\n",
    ")\n",
    "\n",
    "veriler = dbCollection.find({},{\"_id\":0,\"ad\":1,\"soyad\":1,\"yas\":1})\n",
    "for i in veriler:\n",
    "    print(i)\n"
   ]
  },
  {
   "cell_type": "code",
   "execution_count": null,
   "metadata": {},
   "outputs": [],
   "source": []
  }
 ],
 "metadata": {
  "kernelspec": {
   "display_name": "Python 3",
   "language": "python",
   "name": "python3"
  },
  "language_info": {
   "codemirror_mode": {
    "name": "ipython",
    "version": 3
   },
   "file_extension": ".py",
   "mimetype": "text/x-python",
   "name": "python",
   "nbconvert_exporter": "python",
   "pygments_lexer": "ipython3",
   "version": "3.10.11"
  },
  "orig_nbformat": 4
 },
 "nbformat": 4,
 "nbformat_minor": 2
}
